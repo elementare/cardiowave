import pandas as pd
import numpy as np
import matplotlib.pyplot as plt
import matplotlib.image as mpimg
import itertools


# Carregar os datasets
mitbih_train = pd.read_csv('dataset/mitbih_train.csv', header=None)
mitbih_test = pd.read_csv('dataset/mitbih_test.csv', header=None)


# Convertendo para o tipo de dados 'Int', que suporta NaN
mitbih_train[187] = mitbih_train[187].astype('Int64')
equilibre = mitbih_train[187].value_counts()
print(equilibre)


plt.figure(figsize=(20,10))
my_circle=plt.Circle( (0,0), 0.7, color='white')
plt.pie(equilibre, labels=['n','q','v','s','f'], colors=['red','green','blue','skyblue','orange'],autopct='%1.1f%%')
p=plt.gcf()
p.gca().add_artist(my_circle)
plt.show()



